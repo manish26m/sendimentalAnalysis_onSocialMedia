{
 "cells": [
  {
   "cell_type": "code",
   "execution_count": 2,
   "metadata": {},
   "outputs": [
    {
     "name": "stdout",
     "output_type": "stream",
     "text": [
      "Collecting twikit==1.7.6\n",
      "  Obtaining dependency information for twikit==1.7.6 from https://files.pythonhosted.org/packages/7c/96/c4c652b001e95a59a8a08b2ef6cf9281e1183523b749fa96f3ea05f2aa1a/twikit-1.7.6-py3-none-any.whl.metadata\n",
      "  Downloading twikit-1.7.6-py3-none-any.whl.metadata (3.7 kB)\n",
      "Requirement already satisfied: httpx in c:\\users\\manis\\anaconda3\\lib\\site-packages (from twikit==1.7.6) (0.27.0)\n",
      "Collecting filetype (from twikit==1.7.6)\n",
      "  Obtaining dependency information for filetype from https://files.pythonhosted.org/packages/18/79/1b8fa1bb3568781e84c9200f951c735f3f157429f44be0495da55894d620/filetype-1.2.0-py2.py3-none-any.whl.metadata\n",
      "  Downloading filetype-1.2.0-py2.py3-none-any.whl.metadata (6.5 kB)\n",
      "Requirement already satisfied: beautifulsoup4 in c:\\users\\manis\\anaconda3\\lib\\site-packages (from twikit==1.7.6) (4.12.2)\n",
      "Collecting pyotp (from twikit==1.7.6)\n",
      "  Obtaining dependency information for pyotp from https://files.pythonhosted.org/packages/c3/c0/c33c8792c3e50193ef55adb95c1c3c2786fe281123291c2dbf0eaab95a6f/pyotp-2.9.0-py3-none-any.whl.metadata\n",
      "  Downloading pyotp-2.9.0-py3-none-any.whl.metadata (9.8 kB)\n",
      "Requirement already satisfied: soupsieve>1.2 in c:\\users\\manis\\anaconda3\\lib\\site-packages (from beautifulsoup4->twikit==1.7.6) (2.4)\n",
      "Requirement already satisfied: anyio in c:\\users\\manis\\anaconda3\\lib\\site-packages (from httpx->twikit==1.7.6) (3.5.0)\n",
      "Requirement already satisfied: certifi in c:\\users\\manis\\anaconda3\\lib\\site-packages (from httpx->twikit==1.7.6) (2023.7.22)\n",
      "Requirement already satisfied: httpcore==1.* in c:\\users\\manis\\anaconda3\\lib\\site-packages (from httpx->twikit==1.7.6) (1.0.5)\n",
      "Requirement already satisfied: idna in c:\\users\\manis\\anaconda3\\lib\\site-packages (from httpx->twikit==1.7.6) (3.4)\n",
      "Requirement already satisfied: sniffio in c:\\users\\manis\\anaconda3\\lib\\site-packages (from httpx->twikit==1.7.6) (1.2.0)\n",
      "Requirement already satisfied: h11<0.15,>=0.13 in c:\\users\\manis\\anaconda3\\lib\\site-packages (from httpcore==1.*->httpx->twikit==1.7.6) (0.14.0)\n",
      "Downloading twikit-1.7.6-py3-none-any.whl (109 kB)\n",
      "   ---------------------------------------- 0.0/109.9 kB ? eta -:--:--\n",
      "   -------------------------- ------------- 71.7/109.9 kB 1.3 MB/s eta 0:00:01\n",
      "   -------------------------- ------------- 71.7/109.9 kB 1.3 MB/s eta 0:00:01\n",
      "   -------------------------- ------------- 71.7/109.9 kB 1.3 MB/s eta 0:00:01\n",
      "   -------------------------- ------------- 71.7/109.9 kB 1.3 MB/s eta 0:00:01\n",
      "   -------------------------------------- 109.9/109.9 kB 425.7 kB/s eta 0:00:00\n",
      "Downloading filetype-1.2.0-py2.py3-none-any.whl (19 kB)\n",
      "Downloading pyotp-2.9.0-py3-none-any.whl (13 kB)\n",
      "Installing collected packages: filetype, pyotp, twikit\n",
      "Successfully installed filetype-1.2.0 pyotp-2.9.0 twikit-1.7.6\n",
      "Note: you may need to restart the kernel to use updated packages.\n"
     ]
    }
   ],
   "source": [
    "pip install twikit==1.7.6"
   ]
  },
  {
   "cell_type": "code",
   "execution_count": null,
   "metadata": {},
   "outputs": [
    {
     "ename": "SyntaxError",
     "evalue": "invalid syntax (4155982369.py, line 1)",
     "output_type": "error",
     "traceback": [
      "\u001b[1;36m  Cell \u001b[1;32mIn[3], line 1\u001b[1;36m\u001b[0m\n\u001b[1;33m    git pull https://github.com/manish26m/sentimentalAnalysis_onSocialMedia.git\u001b[0m\n\u001b[1;37m        ^\u001b[0m\n\u001b[1;31mSyntaxError\u001b[0m\u001b[1;31m:\u001b[0m invalid syntax\n"
     ]
    }
   ],
   "source": []
  },
  {
   "cell_type": "code",
   "execution_count": null,
   "metadata": {},
   "outputs": [],
   "source": []
  }
 ],
 "metadata": {
  "kernelspec": {
   "display_name": "base",
   "language": "python",
   "name": "python3"
  },
  "language_info": {
   "codemirror_mode": {
    "name": "ipython",
    "version": 3
   },
   "file_extension": ".py",
   "mimetype": "text/x-python",
   "name": "python",
   "nbconvert_exporter": "python",
   "pygments_lexer": "ipython3",
   "version": "3.11.4"
  }
 },
 "nbformat": 4,
 "nbformat_minor": 2
}
